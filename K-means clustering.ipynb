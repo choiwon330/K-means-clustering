{
  "nbformat": 4,
  "nbformat_minor": 0,
  "metadata": {
    "language_info": {
      "codemirror_mode": {
        "name": "ipython",
        "version": 3
      },
      "file_extension": ".py",
      "mimetype": "text/x-python",
      "name": "python",
      "nbconvert_exporter": "python",
      "pygments_lexer": "ipython3",
      "version": "3.6.9-final"
    },
    "orig_nbformat": 2,
    "kernelspec": {
      "name": "python36964bitfe9d3777e1b54debbedfdbc9f9156379",
      "display_name": "Python 3.6.9 64-bit"
    },
    "colab": {
      "name": "hw02.ipynb의 사본1",
      "provenance": [],
      "collapsed_sections": []
    }
  },
  "cells": [
    {
      "cell_type": "markdown",
      "metadata": {
        "id": "u4BzfJwwEQZ9",
        "colab_type": "text"
      },
      "source": [
        "# HW02: $K$-means clustering"
      ]
    },
    {
      "cell_type": "markdown",
      "metadata": {
        "id": "cOpLVkUIEQZ-",
        "colab_type": "text"
      },
      "source": [
        "# A.Background: Clustering and Clustering objective\n",
        "\n",
        "### CAVEAT: You should not modify any code in this section. Just run every code block in this section so that you can use the \n",
        "### variable *'X'* that contains our toy dataset.\n",
        "### However, please understand the codes of this section so that you can find it useful and utilize this in the future.\n",
        "\n",
        "---\n",
        "\n",
        "\n",
        "\n",
        "### Clustering\n",
        "- Suppose we have $N$ (the number of total vectors/data) $n$ (the dimension of each vector/data), $\\mathbf{x}_1, ..., \\mathbf{x}_N$.\n",
        "- Goal of clustering is to group the vectors into $k$ clusters. (Normally, $k \\ll N$)\n",
        "\n",
        "*Suppose we have the following data, with $N=300$, $2$ dim vectors*"
      ]
    },
    {
      "cell_type": "code",
      "metadata": {
        "id": "P2vkmfc2EQaA",
        "colab_type": "code",
        "colab": {
          "base_uri": "https://localhost:8080/",
          "height": 35
        },
        "outputId": "c771a5e9-dab9-4040-b6ac-f5e0dc96b5b8"
      },
      "source": [
        "# 0. create and visualize our toy dataset.\n",
        "# import necessary modules for this homework \n",
        "import numpy as np\n",
        "import matplotlib.pyplot as plt\n",
        "\n",
        "# define toy data points as variable 'X' (vectors)\n",
        "X = np.concatenate(\n",
        "    [[.3 * np.random.randn(2) for i in range(100)], # N1=100 2-dim vectors, sampled from Normal distribution centered @ (0, 0), scaled by 0.3 \n",
        "     [np.array([1,1]) + .3 * np.random.randn(2) for i in range(100)], # N2=100 2-dim vectors, Normal distribution centered @ (1, 1), scaled by 0.3\n",
        "     [np.array([1,-1]) + .3 * np.random.randn(2) for i in range(100)]] # N3=100 2-dim vectors, Normal distribution centered @ (1, -1), scaled by 0.3\n",
        ", axis=0) # We concatenate(merge) N1,N2, N3 vectors (each has shape (100, 2)) into (300, 2); since\n",
        "X.shape # (300, 2) = (N, n) \n"
      ],
      "execution_count": 24,
      "outputs": [
        {
          "output_type": "execute_result",
          "data": {
            "text/plain": [
              "(300, 2)"
            ]
          },
          "metadata": {
            "tags": []
          },
          "execution_count": 24
        }
      ]
    },
    {
      "cell_type": "code",
      "metadata": {
        "id": "zP_OALBUEQaF",
        "colab_type": "code",
        "colab": {
          "base_uri": "https://localhost:8080/",
          "height": 299
        },
        "outputId": "a5f056dc-c7cd-421d-f4a2-e489ba098e63"
      },
      "source": [
        "plt.scatter([x[0] for x in X],[x[1] for x in X], color='k') # scatter each dimension of data vector for each X, Y axis\n",
        "plt.title(\"Our toy dataset: N = 300, 2-dim vectors\")\n",
        "plt.xlim([-1.5,2.5]),plt.ylim([-2,2]) # for the concise visualization"
      ],
      "execution_count": 25,
      "outputs": [
        {
          "output_type": "execute_result",
          "data": {
            "text/plain": [
              "((-1.5, 2.5), (-2.0, 2.0))"
            ]
          },
          "metadata": {
            "tags": []
          },
          "execution_count": 25
        },
        {
          "output_type": "display_data",
          "data": {
            "image/png": "[encoded data removed]",
            "text/plain": [
              "<Figure size 432x288 with 1 Axes>"
            ]
          },
          "metadata": {
            "tags": [],
            "needs_background": "light"
          }
        }
      ]
    },
    {
      "cell_type": "markdown",
      "metadata": {
        "id": "4y78HbNWEQaK",
        "colab_type": "text"
      },
      "source": [
        "*Above is our toy dataset to cluster in the Problem 1 to 3.*\n",
        "\n",
        "*By our intuition, we can expect there are $k = 3$ clusters.\n",
        "Thus, in our imagination, the clusters may look like...*"
      ]
    },
    {
      "cell_type": "code",
      "metadata": {
        "id": "EMYh4iysEQaL",
        "colab_type": "code",
        "colab": {
          "base_uri": "https://localhost:8080/",
          "height": 299
        },
        "outputId": "f12e7c97-e86b-474b-d090-7aaceb2e7dd1"
      },
      "source": [
        "plt.scatter([x[0] for x in X[:100]],[x[1] for x in X[:100]], color='r') # first cluster as red\n",
        "plt.scatter([x[0] for x in X[100:200]],[x[1] for x in X[100:200]], color='g') # second cluster as green\n",
        "plt.scatter([x[0] for x in X[200:300]],[x[1] for x in X[200:300]], color='b') # third cluster as blue\n",
        "plt.title(\"Desired clustering result: k = 3\")\n",
        "plt.xlim([-1.5,2.5]),plt.ylim([-2,2]) # for the concise visualization"
      ],
      "execution_count": 26,
      "outputs": [
        {
          "output_type": "execute_result",
          "data": {
            "text/plain": [
              "((-1.5, 2.5), (-2.0, 2.0))"
            ]
          },
          "metadata": {
            "tags": []
          },
          "execution_count": 26
        },
        {
          "output_type": "display_data",
          "data": {
            "image/png": "[encoded data removed]",
            "text/plain": [
              "<Figure size 432x288 with 1 Axes>"
            ]
          },
          "metadata": {
            "tags": [],
            "needs_background": "light"
          }
        }
      ]
    },
    {
      "cell_type": "markdown",
      "metadata": {
        "id": "jSeTKsyLEQaP",
        "colab_type": "text"
      },
      "source": [
        "*Since you've successfully understood (hopefully) all the contents we studied in Chapter 4 of our course,\n",
        "now it's your turn to implement the $K$-means clustering algorithm **by your hand!** *\n",
        "\n",
        "*In this homework, you will be asked to* (The notation follows that in the textbook and the course note) \n",
        "- First test your $K$-means algorithm with *Euclidean distance (Frobenius norm)* on the toy dataset **X** defined in the code block above\n",
        "\n",
        "- Visualize the clustered result with two different values of $k = 2, 3$\n",
        "- Then, change the distance metric in clustering objective from *Frobenius norm* $\\lVert \\mathbf{x_i} - \\mathbf{z_{c_i}} \\rVert_2$ to\n",
        "**angle between two vectors**, i.e., $\\arccos(\\frac{\\mathbf{x_i}^\\top \\mathbf{z_{c_i}}}{\\lVert\\mathbf{x_i}\\rVert_2 \\lVert\\mathbf{z_{c_i}}\\rVert_2} )$\n",
        "\n",
        "- But, we'll actually use the cosine similiarity $(\\frac{\\mathbf{x_i} \\cdot \\mathbf{z_{c_i}}}{\\lVert\\mathbf{x_i}\\rVert_2 \\lVert\\mathbf{z_{c_i}}\\rVert_2})$ for better convergence \n",
        "- Finally, test your algorithm on the well-renowned MNIST dataset (https://en.wikipedia.org/wiki/MNIST_database)."
      ]
    },
    {
      "cell_type": "markdown",
      "metadata": {
        "id": "ocqPcI34EQaQ",
        "colab_type": "text"
      },
      "source": [
        "*From the lecture, we studied the pseudo-code for the actual implementation of $K$ means as follows.*\n",
        "\n",
        "### *pseudo-code* for $K$-Means clustering\n",
        "___\n",
        "\n",
        "given a list of $N$ vectors $\\mathbf{x_1}, ..., \\mathbf{x}_N$, and an initial list of $k$ groups representative\n",
        "vectors $\\mathbf{z}_1, ..., \\mathbf{z}_k$\n",
        "\n",
        "The group representatives can be created by first randomly grouping vectors and \n",
        "then creating mean vectors to be used as representatives.\n",
        "\n",
        "If the vectors (data points) and the group representatives are defined,\n",
        "\n",
        "\n",
        "repeat until covergence\n",
        "\n",
        "1. Partition the vectors into k groups. For each vector $i = 1, ..., N,$ assign $\\mathbf{x}_i$ to the \n",
        "    group associated with the nearest representative.\n",
        "2. Update representatives. For each group $j = 1, ..., k,$ set $\\mathbf{z}_j$ to be the mean of the\n",
        "    vectors in group $j$.\n",
        "___"
      ]
    },
    {
      "cell_type": "markdown",
      "metadata": {
        "id": "i58bXIkOEQaQ",
        "colab_type": "text"
      },
      "source": [
        "# B.Main functions: Main functions for implementing *K*-means algorithm\n",
        "\n",
        "\n",
        "### CAVEAT: *Skeleton code incudes a usage of Python's list comprehension (LC).*\n",
        "- You should get familar with this concept to understand the skeletal code and utilize afterwards.\n",
        "Please refer to the following link if you're not familiar with the LC.\n",
        "\n",
        "- https://docs.python.org/3/tutorial/datastructures.html#list-comprehensions\n",
        "\n",
        "___\n",
        "*Below is the main codes for implementing our K-means algorithm.*"
      ]
    },
    {
      "cell_type": "markdown",
      "metadata": {
        "id": "rAzHUKQNEQaR",
        "colab_type": "text"
      },
      "source": [
        "### Modification (09/16): For better convergence, please implement the angle() function as consine similiarity (i.e. w/o $\\arccos$). \n",
        " $(\\frac{\\mathbf{x_i} \\cdot \\mathbf{z_{c_i}}}{\\lVert\\mathbf{x_i}\\rVert_2 \\lVert\\mathbf{z_{c_i}}\\rVert_2})$"
      ]
    },
    {
      "cell_type": "code",
      "metadata": {
        "id": "PwKa4whdEQaS",
        "colab_type": "code",
        "colab": {}
      },
      "source": [
        "# define the global learning variables for interation.\n",
        "MAX_ITERS = 100\n",
        "TOLERANCE = 1e-4\n",
        "\n",
        "# don't modify this function\n",
        "def plt_dynamic(x, y, ax, colors=['b']):\n",
        "    # Plot the clustered data.\n",
        "    for color in colors:\n",
        "        ax.plot(x, y, color)\n",
        "\n",
        "# define distance metrics\n",
        "def norm(v):\n",
        "    \"\"\"\n",
        "    Compute the Frobenious norm (Euclidean norm) of given vector\n",
        "    :param v: the vector to compute its norm.\n",
        "    :return: the norm of vector v.\n",
        "    \"\"\"\n",
        "    return np.sqrt(v.dot(v))\n",
        "    \"\"\" Problem #1; Fill in here.\"\"\"\n",
        "\n",
        "def angle(x, z):\n",
        "    \"\"\"\n",
        "    Get the angle between two vectors x and z.\n",
        "    :param x: the vector of single data point.\n",
        "    :param z: the vector of representative of each cluster k.\n",
        "    :return: the angle (< pi) between two vectors x and z.\n",
        "    \"\"\"\n",
        "    return np.dot(x,z)/(np.sqrt(x.dot(x))*np.sqrt(z.dot(z)))\n",
        "    \n",
        "\n",
        "# define our main K-means cluster function\n",
        "def kmeans(X, k, metric='angle'):\n",
        "    \"\"\"\n",
        "    Cluster the given data 'X' into 'k' clusters, using the 'metric'\n",
        "    :param X: X in Numpy array of shape [Num of data, Vector dim], \n",
        "    :param k: the vector of representative of each cluster k.\n",
        "    :param metric: the type of clustering metric. 'frobenius' / 'angle'.\n",
        "    :return: list that contains each data's cluster assignment of length N and k class representative vectors \n",
        "    \"\"\"\n",
        "    N = X.shape[0] # amount of vectors\n",
        "    print(\"Total number of datapoints is:\", N)\n",
        "    n = X.shape[1] # dimension of each vector\n",
        "    print(\"dimension of each data is:\", n)\n",
        "    # define dummy variables to store clustering info.\n",
        "    distances = np.zeros(N) # stores distances of each point to the nearest representative\n",
        "    jPrev = np.Inf # prvious cost function for ending criterion\n",
        "    reps = [np.zeros(n) for j in range(k)] # create the representative variables\n",
        "\n",
        "    costs = [] # for the visualization of cost function\n",
        "    iters = [] # for the visualization of cost function\n",
        "\n",
        "    # for each datapoint of N, randomly assign the group index as an integer 0, ..., k-1\n",
        "    # Hint: refer to Python's list comprehension feature (LC) and use method under numpy.random module.\n",
        "    assignment = [ np.random.randint(0,k) for i in range(N)] \n",
        "    \n",
        "    # actual K-means algorithm\n",
        "    itr_last = 0 # the last iteration index\n",
        "    for itr in range(MAX_ITERS): # iterate over 'MAX_ITERS'\n",
        "        \n",
        "        for j in range(k): # iterate over k representatives \n",
        "\n",
        "            # collect the indicies in variable 'assignment' that corresponds to each group j = 0, 1, ..., k - 1. \n",
        "            # Hint: you may choose one of the two expression below.\n",
        "            #group = [i for i in range(N) if j==assignment[i]] \n",
        "            group = []\n",
        "            for i in range(N):\n",
        "                if j==assignment[i]:\n",
        "                    group.append(i)\n",
        "\n",
        "            # update the representative vector data for each group j 'reps[j]' as the mean vector of each group's data points.\n",
        "            # Hint: you can use the numpy indexing, using the indices as Python list.\n",
        "            reps[j] = np.mean(X[group], axis=0) # update representative as the mean of datapoint for each class\n",
        "\n",
        "        for i in range(0, N) : # iterate over the number of whole data points\n",
        "           \n",
        "            # (distance and index)\n",
        "            # compute distance between each data point x[i] and representatives reps[j], and save to the list.\n",
        "            # Hint: complete the 'norm()' method (for Problem1) and 'angle()' (for Problem2) and utilize. \n",
        "            if metric == 'frobenius':\n",
        "                measure = [norm(X[i]-reps[j]) for j in range(k)]\n",
        "            elif metric == 'angle':\n",
        "                measure = [angle(X[i],reps[j]) for j in range(k)]\n",
        "            else:\n",
        "                raise ValueError(\"This metric is not supported.\")\n",
        "            \n",
        "            # Hint: you can use numpy module's method that returns minimum value and index of given list.\n",
        "            distances[i] = np.min(measure,axis=0) # get the smallest distance among k measurements\n",
        "            assignment[i] = np.argmin(measure,axis=0) # get the cluster assignment of corresponding smallest measurement\n",
        "            \n",
        "            \n",
        "        # compute the clustering objective\n",
        "        # Hint: you can use the 'distances' to compute the cost (09/16)\n",
        "        J =  np.mean(distances**2)\n",
        "        \n",
        "        # Exception handling\n",
        "        if np.isnan(J) or np.isinf(J):\n",
        "            raise ValueError(\"Loss is Nan or Inf! Stopping the iteration...\")\n",
        "\n",
        "        # Append cost and the index of iteration for visualization\n",
        "        costs.append(J)\n",
        "        iters.append(itr)\n",
        "\n",
        "        # let's make log\n",
        "        if itr < 10:\n",
        "            print(\"Iter: \" + str(itr) + \" Cost: \" + str(J))\n",
        "        elif itr >= 10 and itr % 10 == 0:\n",
        "            print(\"Iter: \" + str(itr) + \" Cost: \" + str(J))\n",
        "\n",
        "        # if error criterion satisfied, let's get out of the loop.\n",
        "        if (itr > 1) and (abs(J-jPrev)) < (TOLERANCE * J):\n",
        "            itr_last = itr\n",
        "            break\n",
        "\n",
        "        # end the loop if we couldn't satisfy the criterion before the max iterations.\n",
        "        if itr == MAX_ITERS - 1:\n",
        "            itr_last = itr\n",
        "            print(\"Reached max iteration, but could not satisfy the tolerance.\")\n",
        "        \n",
        "        # update the jPrev to compute the error for the next iteration\n",
        "        jPrev = J\n",
        "\n",
        "    # draw the plot for Cost per iteration. You should get familiar with the Matplotlib.\n",
        "    fig, ax = plt.subplots(1,1)\n",
        "    ax.set_title('K-Means cost over iterations')\n",
        "    ax.set_xlabel('Iterations') ; ax.set_ylabel('Cost')\n",
        "    ax.set_xlim(0, itr_last) ; ax.set_ylim(np.min(costs), np.max(costs))\n",
        "    plt_dynamic(iters, costs, ax, 'ro')\n",
        "    \n",
        "    # return the list of assignments and representatives\n",
        "    return assignment, reps"
      ],
      "execution_count": 55,
      "outputs": []
    },
    {
      "cell_type": "markdown",
      "metadata": {
        "id": "BPHyMQlwEQaV",
        "colab_type": "text"
      },
      "source": [
        "# C.Run and visualzie algorithm\n",
        "\n",
        "### CAVEAT: You shoud group the dataset variable *X* according to the cluster assignment returned my our *kmeans()* function. \n",
        "- Once you successfully implement the call of *kmeans()* function and grouping out the data into the list *groups* below, everything is just \n",
        "repeatition of it.\n",
        "---\n",
        "*Let's call our function kmeans() by giving proper arguments of data, cluster, and the metric.*"
      ]
    },
    {
      "cell_type": "code",
      "metadata": {
        "tags": [],
        "id": "cuLwTWhwEQaV",
        "colab_type": "code",
        "colab": {
          "base_uri": "https://localhost:8080/",
          "height": 457
        },
        "outputId": "924f9d6d-9a95-4523-e6ba-d6aae48abf84"
      },
      "source": [
        "k = 2\n",
        "# test with frobenius metric\n",
        "# call the kmeans() function by parsing our toy data 'X', the # of clusters 'k',\n",
        "# and flag we're using Frobenious norm as metric.\n",
        "assignment, reps = kmeans(X, k, metric='frobenius')"
      ],
      "execution_count": 93,
      "outputs": [
        {
          "output_type": "stream",
          "text": [
            "Total number of datapoints is: 300\n",
            "dimension of each data is: 2\n",
            "Iter: 0 Cost: 0.9147250479104219\n",
            "Iter: 1 Cost: 0.5077094540914516\n",
            "Iter: 2 Cost: 0.5071665881592128\n",
            "Iter: 3 Cost: 0.5067231723362138\n",
            "Iter: 4 Cost: 0.5064210075073431\n",
            "Iter: 5 Cost: 0.5063472386438\n",
            "Iter: 6 Cost: 0.5063472386438\n"
          ],
          "name": "stdout"
        },
        {
          "output_type": "display_data",
          "data": {
            "image/png": "[encoded data removed]",
            "text/plain": [
              "<Figure size 432x288 with 1 Axes>"
            ]
          },
          "metadata": {
            "tags": [],
            "needs_background": "light"
          }
        }
      ]
    },
    {
      "cell_type": "markdown",
      "metadata": {
        "id": "9EysSviJEQaY",
        "colab_type": "text"
      },
      "source": [
        "*We see the decrease of the cost function.*\n",
        "\n",
        "*Then, let's visualize our result for $k=2$*"
      ]
    },
    {
      "cell_type": "code",
      "metadata": {
        "id": "HPaHI765EQaY",
        "colab_type": "code",
        "colab": {
          "base_uri": "https://localhost:8080/",
          "height": 269
        },
        "outputId": "349a43f3-6941-4a09-f5bd-bdcdcef4de66"
      },
      "source": [
        "\n",
        "# create a list that consists of lists that contains data points 'X' for each clustering group j = 0, 1, ... k.\n",
        "# Hint: You can either implement in list comprehension or normal for loop\n",
        "# Option 1: Fill out the list comprehension form\n",
        "#groups = [\"\"\" Problem #2; Fill in here. \"\"\" for i in range(len(X)) if assignment[i] == \"\"\" Problem #2; Fill in here. \"\"\"] for j in range(k)]\n",
        "\n",
        "# Option 2: Or this normal for loop statement\n",
        "groups = [] # list for the whole groups of length k\n",
        "for j in range(k):\n",
        "    group_j = [] # create a group list for each representative j.\n",
        "    # iterate over each data point i's assignment, and group them for each each representative j\n",
        "    for i in range(len(assignment)):\n",
        "        if assignment[i] == j :\n",
        "            group_j.append(X[i]) # assort the data in X to each group.\n",
        "    groups.append(group_j)\n",
        "\n",
        "# plot the result.\n",
        "plt.scatter([c[0] for c in groups[0]], [c[1] for c in groups[0]], color='r') # plot the data points in red color for k=0\n",
        "plt.scatter([c[0] for c in groups[1]], [c[1] for c in groups[1]], color='g') # plot the data poiints in green color for k=1\n",
        "plt.xlim([-1.5,2.5]),plt.ylim([-2,2])\n",
        "plt.show()"
      ],
      "execution_count": 94,
      "outputs": [
        {
          "output_type": "display_data",
          "data": {
            "image/png": "[encoded data removed]",
            "text/plain": [
              "<Figure size 432x288 with 1 Axes>"
            ]
          },
          "metadata": {
            "tags": [],
            "needs_background": "light"
          }
        }
      ]
    },
    {
      "cell_type": "markdown",
      "metadata": {
        "id": "K3wnYkZJEQag",
        "colab_type": "text"
      },
      "source": [
        "*We can see that our data points somehow clustered into two groups!*\n",
        "\n",
        "*Now, what if we assume there are three representatives? i.e. $k=3$*"
      ]
    },
    {
      "cell_type": "code",
      "metadata": {
        "id": "PEk1EZIXEQag",
        "colab_type": "code",
        "colab": {
          "base_uri": "https://localhost:8080/",
          "height": 413
        },
        "outputId": "03fb57dc-c0b5-49e7-99f2-ef48643428da"
      },
      "source": [
        "k = 3\n",
        "# test with frobenius metric\n",
        "# call the kmeans() function by parsing our toy data 'X', the # of clusters 'k',\n",
        "# and flag we're using Frobenious norm as metric.\n",
        "assignment, reps= kmeans(X, k, metric='frobenius')\n",
        "\n",
        "#groups = [\"\"\" Problem #2; Fill in here. \"\"\" for i in range(len(X)) if assignment[i] == \"\"\" Problem #2; Fill in here. \"\"\"] for j in range(k)]\n",
        "\n",
        "# Or this normal for loop statement\n",
        "groups = [] # list for the whole groups of length k\n",
        "for j in range(k):\n",
        "    group_j = [] # create a group list for each representative j.\n",
        "    # iterate over each data point i's assignment, and group them for each each representative j\n",
        "    for i in range(len(assignment)):\n",
        "        if assignment[i] == j:\n",
        "            group_j.append(X[i]) # assort the data in X to each group.\n",
        "    groups.append(group_j)\n",
        "\n",
        "# plot the result\n",
        "plt.clf()\n",
        "plt.scatter([c[0] for c in groups[0]],[c[1] for c in groups[0]], color='r') # plot the data points in red color for k=0\n",
        "plt.scatter([c[0] for c in groups[1]],[c[1] for c in groups[1]], color='g') # plot the data poiints in green color for k=1\n",
        "plt.scatter([c[0] for c in groups[2]],[c[1] for c in groups[2]], color='b') # plot the data poiints in blue color for k=2\n",
        "plt.xlim([-1.5,2.5]),plt.ylim([-2,2])\n",
        "plt.show()"
      ],
      "execution_count": 86,
      "outputs": [
        {
          "output_type": "stream",
          "text": [
            "Total number of datapoints is: 300\n",
            "dimension of each data is: 2\n",
            "Iter: 0 Cost: 0.8828203478503532\n",
            "Iter: 1 Cost: 0.23191549952429122\n",
            "Iter: 2 Cost: 0.18014627968030827\n",
            "Iter: 3 Cost: 0.17912623242045483\n",
            "Iter: 4 Cost: 0.17896953053079062\n",
            "Iter: 5 Cost: 0.17896953053079062\n"
          ],
          "name": "stdout"
        },
        {
          "output_type": "display_data",
          "data": {
            "image/png": "[encoded data removed]",
            "text/plain": [
              "<Figure size 432x288 with 1 Axes>"
            ]
          },
          "metadata": {
            "tags": [],
            "needs_background": "light"
          }
        }
      ]
    },
    {
      "cell_type": "markdown",
      "metadata": {
        "id": "_xrsENwJEQai",
        "colab_type": "text"
      },
      "source": [
        "*Wow!, our algorithm clusters our data into three group, similar to our initial guess from our intuition!*\n",
        "\n",
        "# D.Test for the new clustering metric\n",
        "\n",
        "### CAVEAT: You should implement the angle() function and complete some portion of kmeans() function in the *section B*. \n",
        "- You are asked to implement the function that computes angle between two vectors. Please refer to pseudo-code in *section C*.\n",
        "\n",
        "___\n",
        "*Now, let's change the metric to the angle between datapoint and the representative vectors.*\n",
        "\n",
        "*You can again use our kmeans() function, and first fill out the angle() function then use it inside the kmeans().*"
      ]
    },
    {
      "cell_type": "code",
      "metadata": {
        "tags": [],
        "id": "0kD2jYbWEQaj",
        "colab_type": "code",
        "colab": {
          "base_uri": "https://localhost:8080/",
          "height": 385
        },
        "outputId": "af1f7955-7111-4fd2-ecdd-991776e56304"
      },
      "source": [
        "# cluster with k = 2, based on angle metric\n",
        "k = 2\n",
        "# 1) test with angle metric\n",
        "assignment, reps = kmeans(X, k, metric='angle')"
      ],
      "execution_count": 87,
      "outputs": [
        {
          "output_type": "stream",
          "text": [
            "Total number of datapoints is: 300\n",
            "dimension of each data is: 2\n",
            "Iter: 0 Cost: 0.4649694962878925\n",
            "Iter: 1 Cost: 0.18958440538488072\n",
            "Iter: 2 Cost: 0.18958440538488072\n"
          ],
          "name": "stdout"
        },
        {
          "output_type": "display_data",
          "data": {
            "image/png": "[encoded data removed]",
            "text/plain": [
              "<Figure size 432x288 with 1 Axes>"
            ]
          },
          "metadata": {
            "tags": [],
            "needs_background": "light"
          }
        }
      ]
    },
    {
      "cell_type": "code",
      "metadata": {
        "id": "Cqs6BSXXEQak",
        "colab_type": "code",
        "colab": {
          "base_uri": "https://localhost:8080/",
          "height": 269
        },
        "outputId": "d054f629-7e84-4877-b9c1-b3d8aee42b07"
      },
      "source": [
        "#groups = [\"\"\" Problem #3; Fill in here. \"\"\" for i in range(len(X)) if assignment[i] == \"\"\" Problem #3; Fill in here. \"\"\"] for j in range(k)]\n",
        "\n",
        "# Or this normal for loop statement\n",
        "groups = [] # list for the whole groups of length k\n",
        "for j in range(k):\n",
        "    group_j = [] # create a group list for each representative j.\n",
        "    # iterate over each data point i's assignment, and group them for each each representative j\n",
        "    for i in range(len(assignment)):\n",
        "        if assignment[i] == j:\n",
        "            group_j.append(X[i]) # assort the data in X to each group.\n",
        "    groups.append(group_j)\n",
        "\n",
        "plt.clf()\n",
        "plt.scatter([c[0] for c in groups[0]],[c[1] for c in groups[0]], color='r') # plot the data points in red color for k=0\n",
        "plt.scatter([c[0] for c in groups[1]],[c[1] for c in groups[1]], color='g') # plot the data poiints in green color for k=1\n",
        "plt.xlim([-1.5,2.5]),plt.ylim([-2,2])\n",
        "plt.show()"
      ],
      "execution_count": 88,
      "outputs": [
        {
          "output_type": "display_data",
          "data": {
            "image/png": "[encoded data removed]",
            "text/plain": [
              "<Figure size 432x288 with 1 Axes>"
            ]
          },
          "metadata": {
            "tags": [],
            "needs_background": "light"
          }
        }
      ]
    },
    {
      "cell_type": "markdown",
      "metadata": {
        "id": "83zfZO30EQan",
        "colab_type": "text"
      },
      "source": [
        "*Hmm, looks weird... what about the $k=3$ setting?*"
      ]
    },
    {
      "cell_type": "code",
      "metadata": {
        "tags": [],
        "id": "sud50bLDEQan",
        "colab_type": "code",
        "colab": {
          "base_uri": "https://localhost:8080/",
          "height": 691
        },
        "outputId": "0a77cb7d-f867-4812-f327-40083f27c762"
      },
      "source": [
        "# cluster with k = 3, based on angle metric\n",
        "k=3\n",
        "# 1) test with angle metric\n",
        "assignment, reps = kmeans(X, k, \"angle\")"
      ],
      "execution_count": 90,
      "outputs": [
        {
          "output_type": "stream",
          "text": [
            "Total number of datapoints is: 300\n",
            "dimension of each data is: 2\n",
            "Iter: 0 Cost: 0.4332250649205816\n",
            "Iter: 1 Cost: 0.57155307312429\n",
            "Iter: 2 Cost: 0.713904323609525\n",
            "Iter: 3 Cost: 0.566323480639538\n",
            "Iter: 4 Cost: 0.7396795262166784\n",
            "Iter: 5 Cost: 0.5632819765381792\n",
            "Iter: 6 Cost: 0.6581234411270994\n",
            "Iter: 7 Cost: 0.5646277845155869\n",
            "Iter: 8 Cost: 0.6414552080980528\n",
            "Iter: 9 Cost: 0.5645981477982032\n",
            "Iter: 10 Cost: 0.631843869964895\n",
            "Iter: 20 Cost: 0.6288867083680145\n",
            "Iter: 30 Cost: 0.6288867083680145\n",
            "Iter: 40 Cost: 0.6288867083680145\n",
            "Iter: 50 Cost: 0.6288867083680145\n",
            "Iter: 60 Cost: 0.6288867083680145\n",
            "Iter: 70 Cost: 0.6288867083680145\n",
            "Iter: 80 Cost: 0.6288867083680145\n",
            "Iter: 90 Cost: 0.6288867083680145\n",
            "Reached max iteration, but could not satisfy the tolerance.\n"
          ],
          "name": "stdout"
        },
        {
          "output_type": "display_data",
          "data": {
            "image/png": "[encoded data removed]",
            "text/plain": [
              "<Figure size 432x288 with 1 Axes>"
            ]
          },
          "metadata": {
            "tags": [],
            "needs_background": "light"
          }
        }
      ]
    },
    {
      "cell_type": "code",
      "metadata": {
        "id": "2fjLw-kFEQap",
        "colab_type": "code",
        "colab": {
          "base_uri": "https://localhost:8080/",
          "height": 287
        },
        "outputId": "e506f1ca-1bf3-4719-b867-4b0baf3af433"
      },
      "source": [
        "#groups = [\"\"\" Problem #3; Fill in here. \"\"\" for i in range(len(X)) if assignment[i] == \"\"\" Problem #3; Fill in here. \"\"\"] for j in range(k)]\n",
        "\n",
        "# Or this normal for loop statement\n",
        "groups = [] # list for the whole groups of length k\n",
        "for j in range(k):\n",
        "    group_j = [] # create a group list for each representative j.\n",
        "    # iterate over each data point i's assignment, and group them for each each representative j\n",
        "    for i in range(len(assignment)):\n",
        "        if assignment[i] == j:\n",
        "            group_j.append(X[i]) # assort the data in X to each group.\n",
        "    groups.append(group_j)\n",
        "\n",
        "plt.scatter([c[0] for c in groups[0]],[c[1] for c in groups[0]], color='r') # plot the data points in red color for k=0\n",
        "plt.scatter([c[0] for c in groups[1]],[c[1] for c in groups[1]], color='g') # plot the data poiints in green color for k=1\n",
        "plt.scatter([c[0] for c in groups[2]],[c[1] for c in groups[2]], color='b') # plot the data poiints in blue color for k=2\n",
        "plt.xlim([-1.5,2.5]),plt.ylim([-2,2])"
      ],
      "execution_count": 91,
      "outputs": [
        {
          "output_type": "execute_result",
          "data": {
            "text/plain": [
              "((-1.5, 2.5), (-2.0, 2.0))"
            ]
          },
          "metadata": {
            "tags": []
          },
          "execution_count": 91
        },
        {
          "output_type": "display_data",
          "data": {
            "image/png": "[encoded data removed]",
            "text/plain": [
              "<Figure size 432x288 with 1 Axes>"
            ]
          },
          "metadata": {
            "tags": [],
            "needs_background": "light"
          }
        }
      ]
    },
    {
      "cell_type": "markdown",
      "metadata": {
        "id": "30PbqSZQEQar",
        "colab_type": "text"
      },
      "source": [
        "*It turns out that angle metric does not perform well compared to the frobenious metric.*"
      ]
    },
    {
      "cell_type": "markdown",
      "metadata": {
        "id": "JZCAP_0sEQar",
        "colab_type": "text"
      },
      "source": [
        "# E.More challenging dataset, MNIST\n",
        "### CAVEAT: If you have implemented the kmeans(), norm(), and angle() functions as our intent, a little modification of MNIST dataset should be \n",
        "### enough to test your algorithm on it.\n",
        "\n",
        "- You might have heard about MNIST if you have an interest for the machine learning\n",
        "- What's MNIST? : https://en.wikipedia.org/wiki/MNIST_database\n",
        "- You (hopefully) can download the dataset directly from the Colab or Jupyternote book session by running the code block\n",
        "If it doesn't work, please let us know via eTL's Q&A board.\n",
        "___\n",
        "\n",
        "\n",
        "*Now, let's prepare our MNIST dataset directly online.*"
      ]
    },
    {
      "cell_type": "code",
      "metadata": {
        "tags": [],
        "id": "m8gTlUcYEQas",
        "colab_type": "code",
        "colab": {}
      },
      "source": [
        "# NOTE: In case the Tensorflow is not installed in your system, please uncomment the line below.\n",
        "# NOTE: those who're working in the Colab may be already equipped with Tensorflow.\n",
        "# ! pip install tensorflow==2.0.0\n",
        "import tensorflow as tf\n",
        "# Import tensorflow's MNIST data handle\n",
        "mnist = tf.keras.datasets.mnist.load_data(path='mnist.npz') # mnist contains the numpy array of mnist dataset\n",
        "# https://www.tensorflow.org/api_docs/python/tf/keras/datasets/mnist/load_data"
      ],
      "execution_count": null,
      "outputs": []
    },
    {
      "cell_type": "markdown",
      "metadata": {
        "id": "fUno7xH7EQat",
        "colab_type": "text"
      },
      "source": [
        "*The variable 'mnist' is a dataset of 60,000 28X28 grayscale images of 10 digits, along with a test set of 10,000 images.*\n",
        "\n",
        "*Its  data type is nested image & label tuples of train & test tuples of Numpy arrays:*\n",
        "\n",
        "        tuple(\n",
        "                tuple(x_train, y_train), \n",
        "                tuple(x_test, y_test),\n",
        "        )\n",
        "\n",
        "\n",
        "\n",
        "*In this assignment, we'll just use the **x_test** which consists of 10,000 grayscale images.\n",
        "Also, as the experiments of section 4.4.1 of the textbook say,\n",
        "we will cluster the data into $k=20$ clusters, i.e. set $k=20$ representatives.\n",
        "*\n",
        "\n",
        "*To do so, let's define the variable for our MNIST dataset and reshape it to fit our algorithm.*\n"
      ]
    },
    {
      "cell_type": "code",
      "metadata": {
        "id": "fRu_Pi2QEQau",
        "colab_type": "code",
        "colab": {},
        "outputId": "803adcf1-e40c-4676-c3e2-1318bee4f075"
      },
      "source": [
        "(_, _), (X, _) = mnist # In convention, we set the variable as '_' in case we won't use it.\n",
        "\n",
        "# Get the shape of our numpy array of MNIST 'X'.\n",
        "B, H, W = \"\"\" Problem #4; Fill in here. \"\"\" # (B=60000, H=28, W=28), NOTE: X is an numpy array\n",
        "\n",
        "# Reshape the (28 * 28) gray scale MNIST image into 28^2 array. \n",
        "X = \"\"\" Problem #4; Fill in here. \"\"\" # represent each image is 784-dim vector. (10000, 784) "
      ],
      "execution_count": null,
      "outputs": [
        {
          "output_type": "error",
          "ename": "ValueError",
          "evalue": "too many values to unpack (expected 3)",
          "traceback": [
            "\u001b[0;31m---------------------------------------------------------------------------\u001b[0m",
            "\u001b[0;31mValueError\u001b[0m                                Traceback (most recent call last)",
            "\u001b[0;32m<ipython-input-18-70895b028760>\u001b[0m in \u001b[0;36m<module>\u001b[0;34m\u001b[0m\n\u001b[1;32m      2\u001b[0m \u001b[0;34m\u001b[0m\u001b[0m\n\u001b[1;32m      3\u001b[0m \u001b[0;31m# Get the shape of our numpy array of MNIST 'X'.\u001b[0m\u001b[0;34m\u001b[0m\u001b[0;34m\u001b[0m\u001b[0;34m\u001b[0m\u001b[0m\n\u001b[0;32m----> 4\u001b[0;31m \u001b[0mB\u001b[0m\u001b[0;34m,\u001b[0m \u001b[0mH\u001b[0m\u001b[0;34m,\u001b[0m \u001b[0mW\u001b[0m \u001b[0;34m=\u001b[0m \u001b[0;34m\"\"\" Problem #4; Fill in here. \"\"\"\u001b[0m \u001b[0;31m# (B=60000, H=28, W=28), NOTE: X is an numpy array\u001b[0m\u001b[0;34m\u001b[0m\u001b[0;34m\u001b[0m\u001b[0m\n\u001b[0m\u001b[1;32m      5\u001b[0m \u001b[0;34m\u001b[0m\u001b[0m\n\u001b[1;32m      6\u001b[0m \u001b[0;31m# Reshape the (28 * 28) gray scale MNIST image into 28^2 array.\u001b[0m\u001b[0;34m\u001b[0m\u001b[0;34m\u001b[0m\u001b[0;34m\u001b[0m\u001b[0m\n",
            "\u001b[0;31mValueError\u001b[0m: too many values to unpack (expected 3)"
          ]
        }
      ]
    },
    {
      "cell_type": "markdown",
      "metadata": {
        "id": "RAx1qe32EQaw",
        "colab_type": "text"
      },
      "source": [
        "*If you have successfully reshaped the MNIST data variable **X** into shape of (Num of data, Vector dim), let's\n",
        "feed this to our algorithm like before.*\n",
        "\n",
        "### CAVEAT: Since we're dealing with tremendous number of samples, the optimization loop will take some time.\n",
        "\n",
        "*First, cluster with the Frobenius norm metric.*"
      ]
    },
    {
      "cell_type": "code",
      "metadata": {
        "tags": [],
        "id": "Rrmp-iW8EQax",
        "colab_type": "code",
        "colab": {}
      },
      "source": [
        "k = 20\n",
        "\n",
        "# cluster our MNIST data into 20 clusters, using Frobenius norm metric\n",
        "assignment, reps = kmeans(\"\"\" Problem #4; Fill in here. \"\"\")"
      ],
      "execution_count": null,
      "outputs": []
    },
    {
      "cell_type": "markdown",
      "metadata": {
        "tags": [],
        "id": "sbJDHPP6EQay",
        "colab_type": "text"
      },
      "source": [
        "*Now, let's visualize the $k=20$ representative samples!*"
      ]
    },
    {
      "cell_type": "code",
      "metadata": {
        "tags": [],
        "id": "9n00V2VPEQaz",
        "colab_type": "code",
        "colab": {},
        "outputId": "b260bd53-c8e6-4673-cded-7991531ba004"
      },
      "source": [
        "# NOTE: code for visualizing the clustred MNIST data\n",
        "num_samples = k\n",
        "num_col = k\n",
        "num_row = 1\n",
        "\n",
        "# plot images\n",
        "# Hint: the reps[i] is having the shape of 784 dim vector.\n",
        "fig, axes = plt.subplots(num_row, num_col, figsize=(1.5 * num_col,2 * num_row))\n",
        "for i in range(num_samples):\n",
        "    ax = axes[i]\n",
        "    ax.imshow(reps[i].reshape(\"\"\" Problem #4; Fill in here. \"\"\"), cmap='gray')\n",
        "    ax.set_title('k={}'.format(i % 20))\n",
        "plt.tight_layout()\n",
        "plt.show()\n"
      ],
      "execution_count": null,
      "outputs": [
        {
          "output_type": "error",
          "ename": "NameError",
          "evalue": "name 'reps' is not defined",
          "traceback": [
            "\u001b[0;31m---------------------------------------------------------------------------\u001b[0m",
            "\u001b[0;31mNameError\u001b[0m                                 Traceback (most recent call last)",
            "\u001b[0;32m<ipython-input-20-600b58c55dc2>\u001b[0m in \u001b[0;36m<module>\u001b[0;34m\u001b[0m\n\u001b[1;32m      7\u001b[0m \u001b[0;32mfor\u001b[0m \u001b[0mi\u001b[0m \u001b[0;32min\u001b[0m \u001b[0mrange\u001b[0m\u001b[0;34m(\u001b[0m\u001b[0mnum_samples\u001b[0m\u001b[0;34m)\u001b[0m\u001b[0;34m:\u001b[0m\u001b[0;34m\u001b[0m\u001b[0;34m\u001b[0m\u001b[0m\n\u001b[1;32m      8\u001b[0m     \u001b[0max\u001b[0m \u001b[0;34m=\u001b[0m \u001b[0maxes\u001b[0m\u001b[0;34m[\u001b[0m\u001b[0mi\u001b[0m\u001b[0;34m]\u001b[0m\u001b[0;34m\u001b[0m\u001b[0;34m\u001b[0m\u001b[0m\n\u001b[0;32m----> 9\u001b[0;31m     \u001b[0max\u001b[0m\u001b[0;34m.\u001b[0m\u001b[0mimshow\u001b[0m\u001b[0;34m(\u001b[0m\u001b[0mreps\u001b[0m\u001b[0;34m[\u001b[0m\u001b[0mi\u001b[0m\u001b[0;34m]\u001b[0m\u001b[0;34m.\u001b[0m\u001b[0mreshape\u001b[0m\u001b[0;34m(\u001b[0m\u001b[0mH\u001b[0m\u001b[0;34m,\u001b[0m \u001b[0mW\u001b[0m\u001b[0;34m)\u001b[0m\u001b[0;34m,\u001b[0m \u001b[0mcmap\u001b[0m\u001b[0;34m=\u001b[0m\u001b[0;34m'gray'\u001b[0m\u001b[0;34m)\u001b[0m\u001b[0;34m\u001b[0m\u001b[0;34m\u001b[0m\u001b[0m\n\u001b[0m\u001b[1;32m     10\u001b[0m     \u001b[0max\u001b[0m\u001b[0;34m.\u001b[0m\u001b[0mset_title\u001b[0m\u001b[0;34m(\u001b[0m\u001b[0;34m'k={}'\u001b[0m\u001b[0;34m.\u001b[0m\u001b[0mformat\u001b[0m\u001b[0;34m(\u001b[0m\u001b[0mi\u001b[0m \u001b[0;34m%\u001b[0m \u001b[0;36m20\u001b[0m\u001b[0;34m)\u001b[0m\u001b[0;34m)\u001b[0m\u001b[0;34m\u001b[0m\u001b[0;34m\u001b[0m\u001b[0m\n\u001b[1;32m     11\u001b[0m \u001b[0mplt\u001b[0m\u001b[0;34m.\u001b[0m\u001b[0mtight_layout\u001b[0m\u001b[0;34m(\u001b[0m\u001b[0;34m)\u001b[0m\u001b[0;34m\u001b[0m\u001b[0;34m\u001b[0m\u001b[0m\n",
            "\u001b[0;31mNameError\u001b[0m: name 'reps' is not defined"
          ]
        }
      ]
    },
    {
      "cell_type": "markdown",
      "metadata": {
        "id": "cC1NAtyaEQa1",
        "colab_type": "text"
      },
      "source": [
        "*Wow!, the representative samples, which are the mean vector of each cluster, look like actual data!*\n",
        "\n",
        "*Then, let's check some samples for each representative $k$, if they look similar to each representative.*"
      ]
    },
    {
      "cell_type": "code",
      "metadata": {
        "tags": [],
        "id": "5rg4mjfwEQa1",
        "colab_type": "code",
        "colab": {},
        "outputId": "9242a6f6-3502-4de8-fa1f-3c5f1cfc3590"
      },
      "source": [
        "# NOTE: code for visualizing the clustred MNIST data.\n",
        "\n",
        "samples_each = 5\n",
        "num_col = k\n",
        "num_row = samples_each\n",
        "num_samples = k * samples_each\n",
        "\n",
        "data_samples = []\n",
        "for k in range(num_row * len(reps)):\n",
        "    ind = k // 20\n",
        "    inds = np.where(np.array(assignment) == k % 20)\n",
        "    data_samples.append(X[inds[0][ind]])\n",
        "\n",
        "# Hint: the data_samples[i] is having the shape of 784 dim vector.\n",
        "fig, axes = plt.subplots(num_row, num_col, figsize=(1.5*num_col,2*num_row))\n",
        "for i in range(num_samples):\n",
        "    ax = axes[i//num_col, i%num_col]\n",
        "    if i % 20 == 0:\n",
        "        data_samples\n",
        "    ax.imshow(data_samples[i].reshape(\"\"\" Problem #4; Fill in here. \"\"\"), cmap='gray')\n",
        "    ax.set_title('k={}'.format(i % 20))\n",
        "plt.tight_layout()\n",
        "plt.show()"
      ],
      "execution_count": null,
      "outputs": [
        {
          "output_type": "error",
          "ename": "NameError",
          "evalue": "name 'reps' is not defined",
          "traceback": [
            "\u001b[0;31m---------------------------------------------------------------------------\u001b[0m",
            "\u001b[0;31mNameError\u001b[0m                                 Traceback (most recent call last)",
            "\u001b[0;32m<ipython-input-21-eb404d1c8fd8>\u001b[0m in \u001b[0;36m<module>\u001b[0;34m\u001b[0m\n\u001b[1;32m      6\u001b[0m \u001b[0;34m\u001b[0m\u001b[0m\n\u001b[1;32m      7\u001b[0m \u001b[0mdata_samples\u001b[0m \u001b[0;34m=\u001b[0m \u001b[0;34m[\u001b[0m\u001b[0;34m]\u001b[0m\u001b[0;34m\u001b[0m\u001b[0;34m\u001b[0m\u001b[0m\n\u001b[0;32m----> 8\u001b[0;31m \u001b[0;32mfor\u001b[0m \u001b[0mk\u001b[0m \u001b[0;32min\u001b[0m \u001b[0mrange\u001b[0m\u001b[0;34m(\u001b[0m\u001b[0mnum_row\u001b[0m \u001b[0;34m*\u001b[0m \u001b[0mlen\u001b[0m\u001b[0;34m(\u001b[0m\u001b[0mreps\u001b[0m\u001b[0;34m)\u001b[0m\u001b[0;34m)\u001b[0m\u001b[0;34m:\u001b[0m\u001b[0;34m\u001b[0m\u001b[0;34m\u001b[0m\u001b[0m\n\u001b[0m\u001b[1;32m      9\u001b[0m     \u001b[0mind\u001b[0m \u001b[0;34m=\u001b[0m \u001b[0mk\u001b[0m \u001b[0;34m//\u001b[0m \u001b[0;36m20\u001b[0m\u001b[0;34m\u001b[0m\u001b[0;34m\u001b[0m\u001b[0m\n\u001b[1;32m     10\u001b[0m     \u001b[0minds\u001b[0m \u001b[0;34m=\u001b[0m \u001b[0mnp\u001b[0m\u001b[0;34m.\u001b[0m\u001b[0mwhere\u001b[0m\u001b[0;34m(\u001b[0m\u001b[0mnp\u001b[0m\u001b[0;34m.\u001b[0m\u001b[0marray\u001b[0m\u001b[0;34m(\u001b[0m\u001b[0massignment\u001b[0m\u001b[0;34m)\u001b[0m \u001b[0;34m==\u001b[0m \u001b[0mk\u001b[0m \u001b[0;34m%\u001b[0m \u001b[0;36m20\u001b[0m\u001b[0;34m)\u001b[0m\u001b[0;34m\u001b[0m\u001b[0;34m\u001b[0m\u001b[0m\n",
            "\u001b[0;31mNameError\u001b[0m: name 'reps' is not defined"
          ]
        }
      ]
    },
    {
      "cell_type": "markdown",
      "metadata": {
        "id": "4bHzOdJJEQa2",
        "colab_type": "text"
      },
      "source": [
        "*Each row shows the samples for each cluster that is represented by the data point we have visualized previously. \n",
        "We can see that the samples look similar to corresponding repsentative sample!\n",
        "*\n",
        "\n",
        "### results from the angle metric\n",
        "### CAVEAT: This will NOT converge, just report the error log occured by the diverging cost.\n",
        "\n",
        "*How about the clustered sampels optimized from angle metric?*"
      ]
    },
    {
      "cell_type": "code",
      "metadata": {
        "tags": [],
        "id": "v6fQOsGNEQa3",
        "colab_type": "code",
        "colab": {},
        "outputId": "c339c829-3fee-4e56-c353-9179df73ea00"
      },
      "source": [
        "k = 20\n",
        "# cluster our MNIST data into 20 clusters, using angle norm metric\n",
        "assignment, reps = kmeans(\"\"\" Problem #4; Fill in here. \"\"\")\n",
        "# assignment: len N list of cluster indices; reps: len n list of representive vectors\n",
        "num_samples = 20\n",
        "num_col = 20\n",
        "num_row = 1\n",
        "\n",
        "# plot images\n",
        "# Hint: the reps[i] is having the shape of 784 dim vector.\n",
        "fig, axes = plt.subplots(num_row, num_col, figsize=(1.5*num_col,2*num_row))\n",
        "for i in range(num_samples):\n",
        "    # ax = axes[i//num_col, i%num_col]\n",
        "    ax = axes[i]\n",
        "    ax.imshow(reps[i].reshape(\"\"\" Problem #4; Fill in here. \"\"\"), cmap='gray')\n",
        "    ax.set_title('k={}'.format(i))\n",
        "plt.tight_layout()\n",
        "plt.show()\n"
      ],
      "execution_count": null,
      "outputs": [
        {
          "output_type": "error",
          "ename": "NameError",
          "evalue": "name 'kmeans' is not defined",
          "traceback": [
            "\u001b[0;31m---------------------------------------------------------------------------\u001b[0m",
            "\u001b[0;31mNameError\u001b[0m                                 Traceback (most recent call last)",
            "\u001b[0;32m<ipython-input-23-d5e4c13742a9>\u001b[0m in \u001b[0;36m<module>\u001b[0;34m\u001b[0m\n\u001b[1;32m      1\u001b[0m \u001b[0mk\u001b[0m \u001b[0;34m=\u001b[0m \u001b[0;36m20\u001b[0m\u001b[0;34m\u001b[0m\u001b[0;34m\u001b[0m\u001b[0m\n\u001b[1;32m      2\u001b[0m \u001b[0;31m# cluster our MNIST data into 20 clusters, using angle norm metric\u001b[0m\u001b[0;34m\u001b[0m\u001b[0;34m\u001b[0m\u001b[0;34m\u001b[0m\u001b[0m\n\u001b[0;32m----> 3\u001b[0;31m \u001b[0massignment\u001b[0m\u001b[0;34m,\u001b[0m \u001b[0mreps\u001b[0m \u001b[0;34m=\u001b[0m \u001b[0mkmeans\u001b[0m\u001b[0;34m(\u001b[0m\u001b[0;34m\"\"\" Problem #4; Fill in here. \"\"\"\u001b[0m\u001b[0;34m)\u001b[0m\u001b[0;34m\u001b[0m\u001b[0;34m\u001b[0m\u001b[0m\n\u001b[0m\u001b[1;32m      4\u001b[0m \u001b[0;31m# assignment: len N list of cluster indices; reps: len n list of representive vectors\u001b[0m\u001b[0;34m\u001b[0m\u001b[0;34m\u001b[0m\u001b[0;34m\u001b[0m\u001b[0m\n\u001b[1;32m      5\u001b[0m \u001b[0mnum_samples\u001b[0m \u001b[0;34m=\u001b[0m \u001b[0;36m20\u001b[0m\u001b[0;34m\u001b[0m\u001b[0;34m\u001b[0m\u001b[0m\n",
            "\u001b[0;31mNameError\u001b[0m: name 'kmeans' is not defined"
          ]
        }
      ]
    },
    {
      "cell_type": "markdown",
      "metadata": {
        "id": "3Aa3BiMSEQa4",
        "colab_type": "text"
      },
      "source": [
        "*Ouch,... we get the error, since the cost functon has diverged to infinity...\n",
        "Thus, it seems like angle is not a proper metric for naive implementation of K-means clustering.\n",
        "*"
      ]
    }
  ]
}